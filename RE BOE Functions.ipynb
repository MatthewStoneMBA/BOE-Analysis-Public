{
 "cells": [
  {
   "cell_type": "code",
   "execution_count": null,
   "metadata": {},
   "outputs": [],
   "source": [
    "import requests\n",
    "from requests import get\n",
    "from bs4 import BeautifulSoup\n",
    "import pandas\n",
    "import itertools\n",
    "import streamlit as st"
   ]
  },
  {
   "cell_type": "code",
   "execution_count": null,
   "metadata": {},
   "outputs": [],
   "source": [
    "def net_operating(rent, tax_rate, price):\n",
    "    \n",
    "    #Takes input as monthly mortgage amount and monthly rental amount\n",
    "    #Uses managment expense, amount for repairs, vacancy ratio\n",
    "    #Example input: net_operating(1000,1,400,200)\n",
    "    #879.33\n",
    "    #1000 - 16.67 (tax) -`` 100 (managment) - 4 (repairs)\n",
    "    \n",
    "    mortgage_amt = mortgage_monthly(price,20,3)\n",
    "    prop_managment = rent * 0.10\n",
    "    prop_tax = (price * (tax_rate/100)/12)\n",
    "    prop_repairs = (price * 0.02)/12\n",
    "    vacancy = (rent*0.02)\n",
    "    #These sections are a list of all the expenses used and formulas for each\n",
    "    \n",
    "    net_income = rent - prop_managment - prop_tax - prop_repairs - vacancy - mortgage_amt\n",
    "    #Summing up expenses\n",
    "    output = [prop_managment, prop_tax, prop_repairs, vacancy, net_income]\n",
    "  \n",
    "    \n",
    "    return output"
   ]
  },
  {
   "cell_type": "code",
   "execution_count": null,
   "metadata": {},
   "outputs": [],
   "source": [
    "def down_payment(price,percent):\n",
    "    #This function takes the price and the downpayment rate and returns the downpayment amount \n",
    "    #Ie down_payment(100,20) returns 20\n",
    "    amt_down = price*(percent/100)\n",
    "    return(amt_down)"
   ]
  },
  {
   "cell_type": "code",
   "execution_count": null,
   "metadata": {},
   "outputs": [],
   "source": [
    "def mortgage_monthly(price,years,percent):\n",
    "    \n",
    "    \n",
    "    #This implements an approach to finding a monthly mortgage amount from the purchase price,\n",
    "    #years and percent. \n",
    "    #Sample input: (300000,20,4) = 2422\n",
    "    #\n",
    "    \n",
    "    \n",
    "    percent = percent /100\n",
    "    down = down_payment(price,20)\n",
    "    loan = price - down\n",
    "    months = years*12\n",
    "    interest_monthly = percent/12\n",
    "    interest_plus = interest_monthly + 1\n",
    "    exponent = (interest_plus)**(-1*months)\n",
    "    subtract = 1 - exponent\n",
    "    division = interest_monthly / subtract\n",
    "    payment = division * loan\n",
    "    \n",
    "    \n",
    "    return(payment)"
   ]
  },
  {
   "cell_type": "code",
   "execution_count": null,
   "metadata": {},
   "outputs": [],
   "source": [
    "def price_mine(url):\n",
    "    #Currently this function takes an input of a URL and returns the listing prices \n",
    "    #The site it mines is remax\n",
    "    #The input must be a string input, we can reformat the input to force this to work\n",
    "    #Next we use regex to remove space and commas and dollar signs \n",
    "    headers = ({'User-Agent':\n",
    "            'Mozilla/5.0 (Windows NT 6.1) AppleWebKit/537.36 (KHTML, like Gecko) Chrome/41.0.2228.0 Safari/537.36'})\n",
    "    response = get(url)\n",
    "    response_text = response.text\n",
    "    html_soup = BeautifulSoup(response_text, 'html.parser')\n",
    "    prices = html_soup.find('h2',{'class': 'price'}).text\n",
    "    prices = prices.replace(\",\", \"\")\n",
    "    prices = prices.replace(\"$\", \"\")\n",
    "    prices = prices.replace(\" \", \"\")\n",
    "    prices = float(prices)\n",
    "  \n",
    "    return prices"
   ]
  },
  {
   "cell_type": "code",
   "execution_count": null,
   "metadata": {},
   "outputs": [],
   "source": [
    "def cap_rate(monthly_income, price):\n",
    "    #This function takes net income, and price and calculates the cap rate\n",
    "    #\n",
    "    cap_rate = ((monthly_income*12) / price)*100\n",
    "    \n",
    "    return cap_rate"
   ]
  },
  {
   "cell_type": "code",
   "execution_count": null,
   "metadata": {},
   "outputs": [],
   "source": [
    "def cash_on_cash(monthly_income, down_payment):\n",
    "    cash_return = ((monthly_income*12)/down_payment)*100\n",
    "    return cash_return"
   ]
  },
  {
   "cell_type": "code",
   "execution_count": 1,
   "metadata": {},
   "outputs": [
    {
     "ename": "NameError",
     "evalue": "name 'st' is not defined",
     "output_type": "error",
     "traceback": [
      "\u001b[0;31m---------------------------------------------------------------------------\u001b[0m",
      "\u001b[0;31mNameError\u001b[0m                                 Traceback (most recent call last)",
      "\u001b[1;32m/Users/hp6g/Library/Mobile Documents/com~apple~CloudDocs/Desktop/python_sandbox/RE BOE.ipynb Cell 8'\u001b[0m in \u001b[0;36m<cell line: 1>\u001b[0;34m()\u001b[0m\n\u001b[0;32m----> <a href='vscode-notebook-cell:/Users/hp6g/Library/Mobile%20Documents/com~apple~CloudDocs/Desktop/python_sandbox/RE%20BOE.ipynb#ch0000007?line=0'>1</a>\u001b[0m st\u001b[39m.\u001b[39mwrite(\u001b[39m\"\"\"\u001b[39m\u001b[39m# Python Real Estate Investment Analysis Bot\u001b[39m\u001b[39m\"\"\"\u001b[39m)\n\u001b[1;32m      <a href='vscode-notebook-cell:/Users/hp6g/Library/Mobile%20Documents/com~apple~CloudDocs/Desktop/python_sandbox/RE%20BOE.ipynb#ch0000007?line=1'>2</a>\u001b[0m st\u001b[39m.\u001b[39mwrite(\u001b[39m\"\"\"\u001b[39m\u001b[39mAny real estate listing can be automatically analyzed\u001b[39m\u001b[39m\"\"\"\u001b[39m)\n",
      "\u001b[0;31mNameError\u001b[0m: name 'st' is not defined"
     ]
    }
   ],
   "source": [
    "st.write(\"\"\"# Python Real Estate Investment Analysis Bot\"\"\")\n",
    "st.write(\"\"\"Any real estate listing can be automatically analyzed\"\"\") \n"
   ]
  },
  {
   "cell_type": "code",
   "execution_count": null,
   "metadata": {},
   "outputs": [],
   "source": [
    "# trial = input(\"Enter a URL to a Remax listing:   \")\n",
    "# rent_amt = input(\"Enter the monthly rent price:  \")\n",
    "# property_tax = input(\"Enter the tax rate:  \")\n",
    "#We have to change these generic inputs to streamlit inputs\n",
    "\n",
    "trial = st.sidebar.text_input(\"Enter the listing URL:   \")\n",
    "rent_amt = st.sidebar.text_input(\"Enter the monthly rent price:   \")\n",
    "property_tax = st.sidebar.text_input(\"Enter the tax rate:   \")\n",
    "\n",
    "trial = str(trial)\n",
    "rent_amt = float(rent_amt)\n",
    "property_tax = float(property_tax)"
   ]
  },
  {
   "cell_type": "code",
   "execution_count": null,
   "metadata": {},
   "outputs": [],
   "source": [
    "listing_notice = price_mine(trial)\n",
    "mortgage = mortgage_monthly(listing_notice, 20, 3)\n",
    "\n",
    "cash = down_payment(listing_notice, 20)\n",
    "net_income = net_operating(rent_amt, property_tax , listing_notice)\n",
    "monthly_cash = net_income[4]\n",
    "cap_return = cap_rate(monthly_cash,listing_notice)\n",
    "cash_percent = cash_on_cash(monthly_cash,cash)"
   ]
  },
  {
   "cell_type": "code",
   "execution_count": null,
   "metadata": {},
   "outputs": [],
   "source": [
    "# net_operating(rent, tax_rate, mortgage_amt, price):\n",
    "\n",
    "# print(\"INPUT: \")\n",
    "# print(\"The price of: \", listing_notice) \n",
    "# print(\"The monthly rent of : \", rent_amt)\n",
    "# print(\"The tax rate of : \", property_tax)\n",
    "# print(\"OUTPUTS: \")\n",
    "# print(\"Monthly mortgage of  :  \",mortgage)\n",
    "# print(\"Net operating income:  \", net_income)\n",
    "# print(\"Cap rate of:  \", cap_return,\" % \")\n",
    "# print(\"Cash return rate of:  \", cash_percent, \" % \")\n",
    "\n",
    "#We have to convert the above outputs to streamlit outputs \n",
    "\n",
    "st.write(\"The monthly cashflow is: \")\n",
    "st.write(monthly_cash)\n",
    "st.write(\"The cap rate is: \")\n",
    "st.write(cap_return)\n",
    "st.write(\"The cash on cash return rate is: \")\n",
    "st.write(cash_percent)"
   ]
  },
  {
   "cell_type": "code",
   "execution_count": null,
   "metadata": {},
   "outputs": [],
   "source": []
  },
  {
   "cell_type": "code",
   "execution_count": null,
   "metadata": {},
   "outputs": [],
   "source": []
  },
  {
   "cell_type": "code",
   "execution_count": null,
   "metadata": {},
   "outputs": [],
   "source": []
  },
  {
   "cell_type": "code",
   "execution_count": null,
   "metadata": {},
   "outputs": [],
   "source": []
  },
  {
   "cell_type": "code",
   "execution_count": null,
   "metadata": {},
   "outputs": [],
   "source": []
  }
 ],
 "metadata": {
  "interpreter": {
   "hash": "31f2aee4e71d21fbe5cf8b01ff0e069b9275f58929596ceb00d14d90e3e16cd6"
  },
  "kernelspec": {
   "display_name": "Python 3.8.9 64-bit",
   "language": "python",
   "name": "python3"
  },
  "language_info": {
   "codemirror_mode": {
    "name": "ipython",
    "version": 3
   },
   "file_extension": ".py",
   "mimetype": "text/x-python",
   "name": "python",
   "nbconvert_exporter": "python",
   "pygments_lexer": "ipython3",
   "version": "3.8.9"
  },
  "orig_nbformat": 4
 },
 "nbformat": 4,
 "nbformat_minor": 2
}
